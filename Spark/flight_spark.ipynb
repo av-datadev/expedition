{
 "cells": [
  {
   "cell_type": "code",
   "execution_count": null,
   "id": "a1544753",
   "metadata": {},
   "outputs": [],
   "source": [
    "import pandas as pd\n",
    "from pyspark.sql import SparkSession"
   ]
  },
  {
   "cell_type": "markdown",
   "id": "7d9b29fc",
   "metadata": {},
   "source": [
    "#### Start a Spark Session"
   ]
  },
  {
   "cell_type": "code",
   "execution_count": null,
   "id": "dda19552",
   "metadata": {},
   "outputs": [],
   "source": [
    "spark = SparkSession.builder.appName('flight EDA').getOrCreate()"
   ]
  },
  {
   "cell_type": "code",
   "execution_count": null,
   "id": "340c7ee2",
   "metadata": {},
   "outputs": [],
   "source": [
    "spark"
   ]
  },
  {
   "cell_type": "markdown",
   "id": "47b2de0d",
   "metadata": {},
   "source": [
    "#### Read the dataset"
   ]
  },
  {
   "cell_type": "markdown",
   "id": "eb491c2f",
   "metadata": {},
   "source": [
    "1. Converting Excel to CSV for easy reading using pandas"
   ]
  },
  {
   "cell_type": "code",
   "execution_count": 8,
   "id": "b7df6a0c",
   "metadata": {},
   "outputs": [],
   "source": [
    "pd.read_excel('/Applications/Repos/Repo/expedition/Spark/flight_price.xlsx').to_csv('flight_price.csv',index=False)"
   ]
  },
  {
   "cell_type": "code",
   "execution_count": 9,
   "id": "bc66e268",
   "metadata": {},
   "outputs": [],
   "source": [
    "df_spark = spark.read.csv('flight_price.csv',header=True,inferSchema=True)"
   ]
  },
  {
   "cell_type": "code",
   "execution_count": 15,
   "id": "11314b89",
   "metadata": {},
   "outputs": [
    {
     "data": {
      "text/plain": [
       "DataFrame[summary: string, Airline: string, Date_of_Journey: string, Source: string, Destination: string, Route: string, Arrival_Time: string, Duration: string, Total_Stops: string, Additional_Info: string, Price: string]"
      ]
     },
     "execution_count": 15,
     "metadata": {},
     "output_type": "execute_result"
    }
   ],
   "source": [
    "df_spark.describe()"
   ]
  },
  {
   "cell_type": "markdown",
   "id": "ff685c67",
   "metadata": {},
   "source": [
    "2. Split Date of Journey to Date, Month and Year"
   ]
  },
  {
   "cell_type": "code",
   "execution_count": 16,
   "id": "08931681",
   "metadata": {},
   "outputs": [],
   "source": [
    "from pyspark.sql.functions import split, col "
   ]
  },
  {
   "cell_type": "code",
   "execution_count": 22,
   "id": "4a95416e",
   "metadata": {},
   "outputs": [],
   "source": [
    "df_spark = df_spark.withColumn('Date',split(col('Date_of_Journey'),'/').getItem(0).cast('int')) \\\n",
    "                   .withColumn('Month',split(col('Date_Of_Journey'),'/').getItem(1).cast('int')) \\\n",
    "                   .withColumn('Year',split(col('Date_of_Journey'),'/').getItem(2).cast('int'))"
   ]
  },
  {
   "cell_type": "code",
   "execution_count": 25,
   "id": "9ee30ee8",
   "metadata": {},
   "outputs": [
    {
     "name": "stdout",
     "output_type": "stream",
     "text": [
      "+-----------------+---------------+--------+-----------+--------------------+-------------------+------------+--------+-----------+--------------------+-----+----+-----+----+\n",
      "|          Airline|Date_of_Journey|  Source|Destination|               Route|           Dep_Time|Arrival_Time|Duration|Total_Stops|     Additional_Info|Price|Date|Month|Year|\n",
      "+-----------------+---------------+--------+-----------+--------------------+-------------------+------------+--------+-----------+--------------------+-----+----+-----+----+\n",
      "|           IndiGo|     24/03/2019|Banglore|  New Delhi|           BLR → DEL|2025-07-11 22:20:00|01:10 22 Mar|  2h 50m|   non-stop|             No info| 3897|  24|    3|2019|\n",
      "|        Air India|      1/05/2019| Kolkata|   Banglore|CCU → IXR → BBI →...|2025-07-11 05:50:00|       13:15|  7h 25m|    2 stops|             No info| 7662|   1|    5|2019|\n",
      "|      Jet Airways|      9/06/2019|   Delhi|     Cochin|DEL → LKO → BOM →...|2025-07-11 09:25:00|04:25 10 Jun|     19h|    2 stops|             No info|13882|   9|    6|2019|\n",
      "|           IndiGo|     12/05/2019| Kolkata|   Banglore|     CCU → NAG → BLR|2025-07-11 18:05:00|       23:30|  5h 25m|     1 stop|             No info| 6218|  12|    5|2019|\n",
      "|           IndiGo|     01/03/2019|Banglore|  New Delhi|     BLR → NAG → DEL|2025-07-11 16:50:00|       21:35|  4h 45m|     1 stop|             No info|13302|   1|    3|2019|\n",
      "|         SpiceJet|     24/06/2019| Kolkata|   Banglore|           CCU → BLR|2025-07-11 09:00:00|       11:25|  2h 25m|   non-stop|             No info| 3873|  24|    6|2019|\n",
      "|      Jet Airways|     12/03/2019|Banglore|  New Delhi|     BLR → BOM → DEL|2025-07-11 18:55:00|10:25 13 Mar| 15h 30m|     1 stop|In-flight meal no...|11087|  12|    3|2019|\n",
      "|      Jet Airways|     01/03/2019|Banglore|  New Delhi|     BLR → BOM → DEL|2025-07-11 08:00:00|05:05 02 Mar|  21h 5m|     1 stop|             No info|22270|   1|    3|2019|\n",
      "|      Jet Airways|     12/03/2019|Banglore|  New Delhi|     BLR → BOM → DEL|2025-07-11 08:55:00|10:25 13 Mar| 25h 30m|     1 stop|In-flight meal no...|11087|  12|    3|2019|\n",
      "|Multiple carriers|     27/05/2019|   Delhi|     Cochin|     DEL → BOM → COK|2025-07-11 11:25:00|       19:15|  7h 50m|     1 stop|             No info| 8625|  27|    5|2019|\n",
      "+-----------------+---------------+--------+-----------+--------------------+-------------------+------------+--------+-----------+--------------------+-----+----+-----+----+\n",
      "only showing top 10 rows\n"
     ]
    }
   ],
   "source": [
    "df_spark.show(10)"
   ]
  },
  {
   "cell_type": "markdown",
   "id": "17b19622",
   "metadata": {},
   "source": [
    "3. Dropping unnessary columns"
   ]
  },
  {
   "cell_type": "code",
   "execution_count": null,
   "id": "b669eaeb",
   "metadata": {},
   "outputs": [],
   "source": [
    "df_spark = df_spark.drop('Date_of_Journey')"
   ]
  },
  {
   "cell_type": "code",
   "execution_count": 31,
   "id": "7ce70f11",
   "metadata": {},
   "outputs": [],
   "source": [
    "df_spark = df_spark.drop('Route')"
   ]
  },
  {
   "cell_type": "markdown",
   "id": "29ff393e",
   "metadata": {},
   "source": [
    "4. Spliting Departure time and Arrivial time"
   ]
  },
  {
   "cell_type": "code",
   "execution_count": null,
   "id": "90c9b1a5",
   "metadata": {},
   "outputs": [
    {
     "name": "stdout",
     "output_type": "stream",
     "text": [
      "+-----------------+--------+-----------+--------+------------+--------+-----------+--------------------+-----+----+-----+----+\n",
      "|          Airline|  Source|Destination|Dep_time|Arrival_Time|Duration|Total_Stops|     Additional_Info|Price|Date|Month|Year|\n",
      "+-----------------+--------+-----------+--------+------------+--------+-----------+--------------------+-----+----+-----+----+\n",
      "|           IndiGo|Banglore|  New Delhi|22:20:00|01:10 22 Mar|  2h 50m|   non-stop|             No info| 3897|  24|    3|2019|\n",
      "|        Air India| Kolkata|   Banglore|05:50:00|       13:15|  7h 25m|    2 stops|             No info| 7662|   1|    5|2019|\n",
      "|      Jet Airways|   Delhi|     Cochin|09:25:00|04:25 10 Jun|     19h|    2 stops|             No info|13882|   9|    6|2019|\n",
      "|           IndiGo| Kolkata|   Banglore|18:05:00|       23:30|  5h 25m|     1 stop|             No info| 6218|  12|    5|2019|\n",
      "|           IndiGo|Banglore|  New Delhi|16:50:00|       21:35|  4h 45m|     1 stop|             No info|13302|   1|    3|2019|\n",
      "|         SpiceJet| Kolkata|   Banglore|09:00:00|       11:25|  2h 25m|   non-stop|             No info| 3873|  24|    6|2019|\n",
      "|      Jet Airways|Banglore|  New Delhi|18:55:00|10:25 13 Mar| 15h 30m|     1 stop|In-flight meal no...|11087|  12|    3|2019|\n",
      "|      Jet Airways|Banglore|  New Delhi|08:00:00|05:05 02 Mar|  21h 5m|     1 stop|             No info|22270|   1|    3|2019|\n",
      "|      Jet Airways|Banglore|  New Delhi|08:55:00|10:25 13 Mar| 25h 30m|     1 stop|In-flight meal no...|11087|  12|    3|2019|\n",
      "|Multiple carriers|   Delhi|     Cochin|11:25:00|       19:15|  7h 50m|     1 stop|             No info| 8625|  27|    5|2019|\n",
      "|        Air India|   Delhi|     Cochin|09:45:00|       23:00| 13h 15m|     1 stop|             No info| 8907|   1|    6|2019|\n",
      "|           IndiGo| Kolkata|   Banglore|20:20:00|       22:55|  2h 35m|   non-stop|             No info| 4174|  18|    4|2019|\n",
      "|        Air India| Chennai|    Kolkata|11:40:00|       13:55|  2h 15m|   non-stop|             No info| 4667|  24|    6|2019|\n",
      "|      Jet Airways| Kolkata|   Banglore|21:10:00|09:20 10 May| 12h 10m|     1 stop|In-flight meal no...| 9663|   9|    5|2019|\n",
      "|           IndiGo| Kolkata|   Banglore|17:15:00|       19:50|  2h 35m|   non-stop|             No info| 4804|  24|    4|2019|\n",
      "|        Air India|   Delhi|     Cochin|16:40:00|19:15 04 Mar| 26h 35m|    2 stops|             No info|14011|   3|    3|2019|\n",
      "|         SpiceJet|   Delhi|     Cochin|08:45:00|       13:15|  4h 30m|     1 stop|             No info| 5830|  15|    4|2019|\n",
      "|      Jet Airways|   Delhi|     Cochin|14:00:00|12:35 13 Jun| 22h 35m|     1 stop|In-flight meal no...|10262|  12|    6|2019|\n",
      "|        Air India|   Delhi|     Cochin|20:15:00|19:15 13 Jun|     23h|    2 stops|             No info|13381|  12|    6|2019|\n",
      "|      Jet Airways|   Delhi|     Cochin|16:00:00|12:35 28 May| 20h 35m|     1 stop|In-flight meal no...|12898|  27|    5|2019|\n",
      "+-----------------+--------+-----------+--------+------------+--------+-----------+--------------------+-----+----+-----+----+\n",
      "only showing top 20 rows\n"
     ]
    }
   ],
   "source": [
    "df_spark = df_spark.withColumn('Dep_time',split(col('Dep_Time'),' ').getItem(1))"
   ]
  },
  {
   "cell_type": "code",
   "execution_count": 39,
   "id": "84e0a8d9",
   "metadata": {},
   "outputs": [
    {
     "name": "stdout",
     "output_type": "stream",
     "text": [
      "+-----------------+--------+-----------+--------+------------+--------+-----------+--------------------+-----+----+-----+----+\n",
      "|          Airline|  Source|Destination|Dep_time|Arrival_Time|Duration|Total_Stops|     Additional_Info|Price|Date|Month|Year|\n",
      "+-----------------+--------+-----------+--------+------------+--------+-----------+--------------------+-----+----+-----+----+\n",
      "|           IndiGo|Banglore|  New Delhi|22:20:00|01:10 22 Mar|  2h 50m|   non-stop|             No info| 3897|  24|    3|2019|\n",
      "|        Air India| Kolkata|   Banglore|05:50:00|       13:15|  7h 25m|    2 stops|             No info| 7662|   1|    5|2019|\n",
      "|      Jet Airways|   Delhi|     Cochin|09:25:00|04:25 10 Jun|     19h|    2 stops|             No info|13882|   9|    6|2019|\n",
      "|           IndiGo| Kolkata|   Banglore|18:05:00|       23:30|  5h 25m|     1 stop|             No info| 6218|  12|    5|2019|\n",
      "|           IndiGo|Banglore|  New Delhi|16:50:00|       21:35|  4h 45m|     1 stop|             No info|13302|   1|    3|2019|\n",
      "|         SpiceJet| Kolkata|   Banglore|09:00:00|       11:25|  2h 25m|   non-stop|             No info| 3873|  24|    6|2019|\n",
      "|      Jet Airways|Banglore|  New Delhi|18:55:00|10:25 13 Mar| 15h 30m|     1 stop|In-flight meal no...|11087|  12|    3|2019|\n",
      "|      Jet Airways|Banglore|  New Delhi|08:00:00|05:05 02 Mar|  21h 5m|     1 stop|             No info|22270|   1|    3|2019|\n",
      "|      Jet Airways|Banglore|  New Delhi|08:55:00|10:25 13 Mar| 25h 30m|     1 stop|In-flight meal no...|11087|  12|    3|2019|\n",
      "|Multiple carriers|   Delhi|     Cochin|11:25:00|       19:15|  7h 50m|     1 stop|             No info| 8625|  27|    5|2019|\n",
      "|        Air India|   Delhi|     Cochin|09:45:00|       23:00| 13h 15m|     1 stop|             No info| 8907|   1|    6|2019|\n",
      "|           IndiGo| Kolkata|   Banglore|20:20:00|       22:55|  2h 35m|   non-stop|             No info| 4174|  18|    4|2019|\n",
      "|        Air India| Chennai|    Kolkata|11:40:00|       13:55|  2h 15m|   non-stop|             No info| 4667|  24|    6|2019|\n",
      "|      Jet Airways| Kolkata|   Banglore|21:10:00|09:20 10 May| 12h 10m|     1 stop|In-flight meal no...| 9663|   9|    5|2019|\n",
      "|           IndiGo| Kolkata|   Banglore|17:15:00|       19:50|  2h 35m|   non-stop|             No info| 4804|  24|    4|2019|\n",
      "|        Air India|   Delhi|     Cochin|16:40:00|19:15 04 Mar| 26h 35m|    2 stops|             No info|14011|   3|    3|2019|\n",
      "|         SpiceJet|   Delhi|     Cochin|08:45:00|       13:15|  4h 30m|     1 stop|             No info| 5830|  15|    4|2019|\n",
      "|      Jet Airways|   Delhi|     Cochin|14:00:00|12:35 13 Jun| 22h 35m|     1 stop|In-flight meal no...|10262|  12|    6|2019|\n",
      "|        Air India|   Delhi|     Cochin|20:15:00|19:15 13 Jun|     23h|    2 stops|             No info|13381|  12|    6|2019|\n",
      "|      Jet Airways|   Delhi|     Cochin|16:00:00|12:35 28 May| 20h 35m|     1 stop|In-flight meal no...|12898|  27|    5|2019|\n",
      "+-----------------+--------+-----------+--------+------------+--------+-----------+--------------------+-----+----+-----+----+\n",
      "only showing top 20 rows\n"
     ]
    }
   ],
   "source": [
    "df_spark.show()"
   ]
  },
  {
   "cell_type": "code",
   "execution_count": null,
   "id": "da2a14bd",
   "metadata": {},
   "outputs": [],
   "source": [
    "df_spark = df_spark.withColumn('Dep_hour',split(col('Dep_time'),':').getItem(0))\\\n",
    "                  .withColumn('Dep_Min',split(col('Dep_time'),':').getItem(1))"
   ]
  },
  {
   "cell_type": "code",
   "execution_count": 47,
   "id": "1cedead3",
   "metadata": {},
   "outputs": [],
   "source": [
    "df_spark = df_spark.withColumn('Arrival_time',split(col('Arrival_Time'),' ').getItem(0))"
   ]
  },
  {
   "cell_type": "code",
   "execution_count": 49,
   "id": "bd4ed943",
   "metadata": {},
   "outputs": [
    {
     "name": "stdout",
     "output_type": "stream",
     "text": [
      "+-----------------+--------+-----------+--------+------------+--------+-----------+--------------------+-----+----+-----+----+--------+-------+\n",
      "|          Airline|  Source|Destination|Dep_time|Arrival_time|Duration|Total_Stops|     Additional_Info|Price|Date|Month|Year|Dep_hour|Dep_Min|\n",
      "+-----------------+--------+-----------+--------+------------+--------+-----------+--------------------+-----+----+-----+----+--------+-------+\n",
      "|           IndiGo|Banglore|  New Delhi|22:20:00|       01:10|  2h 50m|   non-stop|             No info| 3897|  24|    3|2019|      22|     20|\n",
      "|        Air India| Kolkata|   Banglore|05:50:00|       13:15|  7h 25m|    2 stops|             No info| 7662|   1|    5|2019|      05|     50|\n",
      "|      Jet Airways|   Delhi|     Cochin|09:25:00|       04:25|     19h|    2 stops|             No info|13882|   9|    6|2019|      09|     25|\n",
      "|           IndiGo| Kolkata|   Banglore|18:05:00|       23:30|  5h 25m|     1 stop|             No info| 6218|  12|    5|2019|      18|     05|\n",
      "|           IndiGo|Banglore|  New Delhi|16:50:00|       21:35|  4h 45m|     1 stop|             No info|13302|   1|    3|2019|      16|     50|\n",
      "|         SpiceJet| Kolkata|   Banglore|09:00:00|       11:25|  2h 25m|   non-stop|             No info| 3873|  24|    6|2019|      09|     00|\n",
      "|      Jet Airways|Banglore|  New Delhi|18:55:00|       10:25| 15h 30m|     1 stop|In-flight meal no...|11087|  12|    3|2019|      18|     55|\n",
      "|      Jet Airways|Banglore|  New Delhi|08:00:00|       05:05|  21h 5m|     1 stop|             No info|22270|   1|    3|2019|      08|     00|\n",
      "|      Jet Airways|Banglore|  New Delhi|08:55:00|       10:25| 25h 30m|     1 stop|In-flight meal no...|11087|  12|    3|2019|      08|     55|\n",
      "|Multiple carriers|   Delhi|     Cochin|11:25:00|       19:15|  7h 50m|     1 stop|             No info| 8625|  27|    5|2019|      11|     25|\n",
      "|        Air India|   Delhi|     Cochin|09:45:00|       23:00| 13h 15m|     1 stop|             No info| 8907|   1|    6|2019|      09|     45|\n",
      "|           IndiGo| Kolkata|   Banglore|20:20:00|       22:55|  2h 35m|   non-stop|             No info| 4174|  18|    4|2019|      20|     20|\n",
      "|        Air India| Chennai|    Kolkata|11:40:00|       13:55|  2h 15m|   non-stop|             No info| 4667|  24|    6|2019|      11|     40|\n",
      "|      Jet Airways| Kolkata|   Banglore|21:10:00|       09:20| 12h 10m|     1 stop|In-flight meal no...| 9663|   9|    5|2019|      21|     10|\n",
      "|           IndiGo| Kolkata|   Banglore|17:15:00|       19:50|  2h 35m|   non-stop|             No info| 4804|  24|    4|2019|      17|     15|\n",
      "|        Air India|   Delhi|     Cochin|16:40:00|       19:15| 26h 35m|    2 stops|             No info|14011|   3|    3|2019|      16|     40|\n",
      "|         SpiceJet|   Delhi|     Cochin|08:45:00|       13:15|  4h 30m|     1 stop|             No info| 5830|  15|    4|2019|      08|     45|\n",
      "|      Jet Airways|   Delhi|     Cochin|14:00:00|       12:35| 22h 35m|     1 stop|In-flight meal no...|10262|  12|    6|2019|      14|     00|\n",
      "|        Air India|   Delhi|     Cochin|20:15:00|       19:15|     23h|    2 stops|             No info|13381|  12|    6|2019|      20|     15|\n",
      "|      Jet Airways|   Delhi|     Cochin|16:00:00|       12:35| 20h 35m|     1 stop|In-flight meal no...|12898|  27|    5|2019|      16|     00|\n",
      "+-----------------+--------+-----------+--------+------------+--------+-----------+--------------------+-----+----+-----+----+--------+-------+\n",
      "only showing top 20 rows\n"
     ]
    }
   ],
   "source": [
    "df_spark.show()"
   ]
  },
  {
   "cell_type": "code",
   "execution_count": 52,
   "id": "50851aed",
   "metadata": {},
   "outputs": [],
   "source": [
    "df_spark = df_spark.withColumn('Arrival_Hour',split(col('Arrival_time'),':').getItem(0))\\\n",
    "        .withColumn('Arrival_Min',split(col('Arrival_time'),':').getItem(1))"
   ]
  },
  {
   "cell_type": "code",
   "execution_count": 55,
   "id": "4ca59ab4",
   "metadata": {},
   "outputs": [],
   "source": [
    "df_spark = df_spark.drop('Dep_time','Arrival_time')"
   ]
  },
  {
   "cell_type": "code",
   "execution_count": 57,
   "id": "2a84ea2c",
   "metadata": {},
   "outputs": [],
   "source": [
    "df_spark = df_spark.withColumnRenamed('Dep_hour','Dep_Hour')"
   ]
  },
  {
   "cell_type": "code",
   "execution_count": 58,
   "id": "4436393c",
   "metadata": {},
   "outputs": [
    {
     "name": "stdout",
     "output_type": "stream",
     "text": [
      "+-----------------+--------+-----------+--------+-----------+--------------------+-----+----+-----+----+--------+-------+------------+-----------+\n",
      "|          Airline|  Source|Destination|Duration|Total_Stops|     Additional_Info|Price|Date|Month|Year|Dep_Hour|Dep_Min|Arrival_Hour|Arrival_Min|\n",
      "+-----------------+--------+-----------+--------+-----------+--------------------+-----+----+-----+----+--------+-------+------------+-----------+\n",
      "|           IndiGo|Banglore|  New Delhi|  2h 50m|   non-stop|             No info| 3897|  24|    3|2019|      22|     20|          01|         10|\n",
      "|        Air India| Kolkata|   Banglore|  7h 25m|    2 stops|             No info| 7662|   1|    5|2019|      05|     50|          13|         15|\n",
      "|      Jet Airways|   Delhi|     Cochin|     19h|    2 stops|             No info|13882|   9|    6|2019|      09|     25|          04|         25|\n",
      "|           IndiGo| Kolkata|   Banglore|  5h 25m|     1 stop|             No info| 6218|  12|    5|2019|      18|     05|          23|         30|\n",
      "|           IndiGo|Banglore|  New Delhi|  4h 45m|     1 stop|             No info|13302|   1|    3|2019|      16|     50|          21|         35|\n",
      "|         SpiceJet| Kolkata|   Banglore|  2h 25m|   non-stop|             No info| 3873|  24|    6|2019|      09|     00|          11|         25|\n",
      "|      Jet Airways|Banglore|  New Delhi| 15h 30m|     1 stop|In-flight meal no...|11087|  12|    3|2019|      18|     55|          10|         25|\n",
      "|      Jet Airways|Banglore|  New Delhi|  21h 5m|     1 stop|             No info|22270|   1|    3|2019|      08|     00|          05|         05|\n",
      "|      Jet Airways|Banglore|  New Delhi| 25h 30m|     1 stop|In-flight meal no...|11087|  12|    3|2019|      08|     55|          10|         25|\n",
      "|Multiple carriers|   Delhi|     Cochin|  7h 50m|     1 stop|             No info| 8625|  27|    5|2019|      11|     25|          19|         15|\n",
      "|        Air India|   Delhi|     Cochin| 13h 15m|     1 stop|             No info| 8907|   1|    6|2019|      09|     45|          23|         00|\n",
      "|           IndiGo| Kolkata|   Banglore|  2h 35m|   non-stop|             No info| 4174|  18|    4|2019|      20|     20|          22|         55|\n",
      "|        Air India| Chennai|    Kolkata|  2h 15m|   non-stop|             No info| 4667|  24|    6|2019|      11|     40|          13|         55|\n",
      "|      Jet Airways| Kolkata|   Banglore| 12h 10m|     1 stop|In-flight meal no...| 9663|   9|    5|2019|      21|     10|          09|         20|\n",
      "|           IndiGo| Kolkata|   Banglore|  2h 35m|   non-stop|             No info| 4804|  24|    4|2019|      17|     15|          19|         50|\n",
      "|        Air India|   Delhi|     Cochin| 26h 35m|    2 stops|             No info|14011|   3|    3|2019|      16|     40|          19|         15|\n",
      "|         SpiceJet|   Delhi|     Cochin|  4h 30m|     1 stop|             No info| 5830|  15|    4|2019|      08|     45|          13|         15|\n",
      "|      Jet Airways|   Delhi|     Cochin| 22h 35m|     1 stop|In-flight meal no...|10262|  12|    6|2019|      14|     00|          12|         35|\n",
      "|        Air India|   Delhi|     Cochin|     23h|    2 stops|             No info|13381|  12|    6|2019|      20|     15|          19|         15|\n",
      "|      Jet Airways|   Delhi|     Cochin| 20h 35m|     1 stop|In-flight meal no...|12898|  27|    5|2019|      16|     00|          12|         35|\n",
      "+-----------------+--------+-----------+--------+-----------+--------------------+-----+----+-----+----+--------+-------+------------+-----------+\n",
      "only showing top 20 rows\n"
     ]
    }
   ],
   "source": [
    "df_spark.show()"
   ]
  },
  {
   "cell_type": "code",
   "execution_count": null,
   "id": "f6cdc80b",
   "metadata": {},
   "outputs": [
    {
     "ename": "PySparkAttributeError",
     "evalue": "[ATTRIBUTE_NOT_SUPPORTED] Attribute `isnull` is not supported.",
     "output_type": "error",
     "traceback": [
      "\u001b[0;31m---------------------------------------------------------------------------\u001b[0m",
      "\u001b[0;31mPySparkAttributeError\u001b[0m                     Traceback (most recent call last)",
      "Cell \u001b[0;32mIn[59], line 1\u001b[0m\n\u001b[0;32m----> 1\u001b[0m \u001b[43mdf_spark\u001b[49m\u001b[38;5;241;43m.\u001b[39;49m\u001b[43misnull\u001b[49m()\n",
      "File \u001b[0;32m~/Library/Python/3.9/lib/python/site-packages/pyspark/sql/classic/dataframe.py:971\u001b[0m, in \u001b[0;36mDataFrame.__getattr__\u001b[0;34m(self, name)\u001b[0m\n\u001b[1;32m    969\u001b[0m \u001b[38;5;28;01mdef\u001b[39;00m\u001b[38;5;250m \u001b[39m\u001b[38;5;21m__getattr__\u001b[39m(\u001b[38;5;28mself\u001b[39m, name: \u001b[38;5;28mstr\u001b[39m) \u001b[38;5;241m-\u001b[39m\u001b[38;5;241m>\u001b[39m Column:\n\u001b[1;32m    970\u001b[0m     \u001b[38;5;28;01mif\u001b[39;00m name \u001b[38;5;129;01mnot\u001b[39;00m \u001b[38;5;129;01min\u001b[39;00m \u001b[38;5;28mself\u001b[39m\u001b[38;5;241m.\u001b[39mcolumns:\n\u001b[0;32m--> 971\u001b[0m         \u001b[38;5;28;01mraise\u001b[39;00m PySparkAttributeError(\n\u001b[1;32m    972\u001b[0m             errorClass\u001b[38;5;241m=\u001b[39m\u001b[38;5;124m\"\u001b[39m\u001b[38;5;124mATTRIBUTE_NOT_SUPPORTED\u001b[39m\u001b[38;5;124m\"\u001b[39m, messageParameters\u001b[38;5;241m=\u001b[39m{\u001b[38;5;124m\"\u001b[39m\u001b[38;5;124mattr_name\u001b[39m\u001b[38;5;124m\"\u001b[39m: name}\n\u001b[1;32m    973\u001b[0m         )\n\u001b[1;32m    974\u001b[0m     jc \u001b[38;5;241m=\u001b[39m \u001b[38;5;28mself\u001b[39m\u001b[38;5;241m.\u001b[39m_jdf\u001b[38;5;241m.\u001b[39mapply(name)\n\u001b[1;32m    975\u001b[0m     \u001b[38;5;28;01mreturn\u001b[39;00m Column(jc)\n",
      "\u001b[0;31mPySparkAttributeError\u001b[0m: [ATTRIBUTE_NOT_SUPPORTED] Attribute `isnull` is not supported."
     ]
    }
   ],
   "source": [
    "df_spark."
   ]
  },
  {
   "cell_type": "code",
   "execution_count": null,
   "id": "0c82f6a4",
   "metadata": {},
   "outputs": [],
   "source": []
  }
 ],
 "metadata": {
  "kernelspec": {
   "display_name": "Python 3",
   "language": "python",
   "name": "python3"
  },
  "language_info": {
   "codemirror_mode": {
    "name": "ipython",
    "version": 3
   },
   "file_extension": ".py",
   "mimetype": "text/x-python",
   "name": "python",
   "nbconvert_exporter": "python",
   "pygments_lexer": "ipython3",
   "version": "3.9.6"
  }
 },
 "nbformat": 4,
 "nbformat_minor": 5
}
