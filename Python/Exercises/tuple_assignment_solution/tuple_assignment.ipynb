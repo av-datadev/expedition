{
 "cells": [
  {
   "cell_type": "markdown",
   "id": "6cade624",
   "metadata": {},
   "source": [
    "# Module 3: Data Structures Assignments\n",
    "## Lesson 3.2: Tuples\n"
   ]
  },
  {
   "cell_type": "markdown",
   "id": "9a051b2c",
   "metadata": {},
   "source": [
    "-----------------------------------------------------------------------------"
   ]
  },
  {
   "cell_type": "markdown",
   "id": "3f7931c3",
   "metadata": {},
   "source": [
    "#### ANSWERS"
   ]
  },
  {
   "cell_type": "markdown",
   "id": "6eed0da3",
   "metadata": {},
   "source": [
    "### Assignment 1: Creating and Accessing Tuples\n",
    "\n",
    "Create a tuple with the first 10 positive integers. Print the tuple."
   ]
  },
  {
   "cell_type": "code",
   "execution_count": 1,
   "id": "ee032194",
   "metadata": {},
   "outputs": [
    {
     "name": "stdout",
     "output_type": "stream",
     "text": [
      "(1, 2, 3, 4, 5, 6, 7, 8, 9, 10)\n"
     ]
    }
   ],
   "source": [
    "tpl = tuple(range(1,11))\n",
    "print(tpl)"
   ]
  },
  {
   "cell_type": "markdown",
   "id": "7fc819bb",
   "metadata": {},
   "source": [
    "### Assignment 2: Accessing Tuple Elements\n",
    "\n",
    "Print the first, middle, and last elements of the tuple created in Assignment 1."
   ]
  },
  {
   "cell_type": "code",
   "execution_count": 12,
   "id": "ff37605c",
   "metadata": {},
   "outputs": [
    {
     "name": "stdout",
     "output_type": "stream",
     "text": [
      "1\n",
      "10\n",
      "6\n"
     ]
    }
   ],
   "source": [
    "tpl1 = tpl[0]\n",
    "print(tpl1)\n",
    "tlast = tpl[-1]\n",
    "print(tlast)\n",
    "tm = tpl[len(tpl)// 2]\n",
    "print(tm)"
   ]
  },
  {
   "cell_type": "markdown",
   "id": "cb4a71ef",
   "metadata": {},
   "source": [
    "### Assignment 4: Nested Tuples\n",
    "\n",
    "Create a nested tuple representing a 3x3 matrix and print the matrix. Access and print the element at the second row and third column.\n"
   ]
  },
  {
   "cell_type": "code",
   "execution_count": 17,
   "id": "413ed619",
   "metadata": {},
   "outputs": [
    {
     "name": "stdout",
     "output_type": "stream",
     "text": [
      "6\n",
      "6\n",
      "6\n"
     ]
    }
   ],
   "source": [
    "matrix = ((1,2,3),\n",
    "          (4,5,6),\n",
    "          (7,8,9))\n",
    "\n",
    "for x in matrix:\n",
    "    print(matrix[1][2])"
   ]
  },
  {
   "cell_type": "markdown",
   "id": "9888a521",
   "metadata": {},
   "source": [
    "### Assignment 5: Tuple Concatenation\n",
    "\n",
    "Concatenate two tuples: (1, 2, 3) and (4, 5, 6). Print the resulting tuple."
   ]
  },
  {
   "cell_type": "code",
   "execution_count": null,
   "id": "4f4b9deb",
   "metadata": {},
   "outputs": [],
   "source": []
  },
  {
   "cell_type": "markdown",
   "id": "eb69fcdb",
   "metadata": {},
   "source": [
    "### Assignment 6: Tuple Methods\n",
    "\n",
    "Create a tuple with duplicate elements and count the occurrences of an element. Find the index of the first occurrence of an element in the tuple.\n"
   ]
  },
  {
   "cell_type": "code",
   "execution_count": null,
   "id": "e6d250b2",
   "metadata": {},
   "outputs": [],
   "source": [
    "tpl = (11,2,3,2,1,1,1,2,4,5,6,4,2)\n",
    "\n",
    "count = tpl.count(1)\n",
    "index = tpl.index(1)\n",
    "print(count)\n",
    "print(index)\n"
   ]
  },
  {
   "cell_type": "markdown",
   "id": "77f72c46",
   "metadata": {},
   "source": [
    "### Assignment 7: Unpacking Tuples\n",
    "\n",
    "Create a tuple with 5 elements and unpack it into 5 variables. Print the variables."
   ]
  },
  {
   "cell_type": "code",
   "execution_count": null,
   "id": "62612f72",
   "metadata": {},
   "outputs": [],
   "source": [
    "tpl = (1,2,3,4,5)\n",
    "a,b,c,d,e = tpl\n",
    "print(a,b,c,d,e)"
   ]
  },
  {
   "cell_type": "markdown",
   "id": "3558cbee",
   "metadata": {},
   "source": [
    "### Assignment 8: Tuple Conversion\n",
    "\n",
    "Convert a list of the first 5 positive integers to a tuple. Print the tuple."
   ]
  },
  {
   "cell_type": "code",
   "execution_count": null,
   "id": "f2444893",
   "metadata": {},
   "outputs": [],
   "source": [
    "lst = list(range(1,6))\n",
    "\n",
    "tpl = tuple(lst)\n",
    "\n",
    "print(tpl)"
   ]
  },
  {
   "cell_type": "markdown",
   "id": "201fad8a",
   "metadata": {},
   "source": [
    "### Assignment 9: Tuple of Tuples\n",
    "\n",
    "Create a tuple containing 3 tuples, each with 3 elements. Print the tuple of tuples."
   ]
  },
  {
   "cell_type": "code",
   "execution_count": null,
   "id": "49c71145",
   "metadata": {},
   "outputs": [],
   "source": [
    "tpl = ((1,2,3),(4,5,6),(7,8,9))\n",
    "\n",
    "print(tpl)"
   ]
  },
  {
   "cell_type": "markdown",
   "id": "44ccb2c3",
   "metadata": {},
   "source": [
    "### Assignment 10: Tuple and List\n",
    "\n",
    "Create a tuple with the first 5 positive integers. Convert it to a list, append the number 6, and convert it back to a tuple. Print the resulting tuple."
   ]
  },
  {
   "cell_type": "code",
   "execution_count": null,
   "id": "a2924442",
   "metadata": {},
   "outputs": [],
   "source": [
    "tpl = tuple(range(1,6))\n",
    "\n",
    "lst = list(tpl)\n",
    "\n",
    "lst.append(6)\n",
    "\n",
    "print(tuple(lst))"
   ]
  },
  {
   "cell_type": "markdown",
   "id": "7c7f2841",
   "metadata": {},
   "source": [
    "### Assignment 11: Tuple and String\n",
    "\n",
    "Create a tuple with the characters of a string. Join the tuple elements into a single string. Print the string."
   ]
  },
  {
   "cell_type": "code",
   "execution_count": null,
   "id": "a70804e8",
   "metadata": {},
   "outputs": [],
   "source": [
    "string = 'Hello'\n",
    "\n",
    "tpl = tuple(string)\n",
    "\n",
    "joined = ''.join(tpl)\n",
    "\n",
    "print(joined)\n",
    "\n"
   ]
  },
  {
   "cell_type": "markdown",
   "id": "bca01967",
   "metadata": {},
   "source": [
    "### Assignment 12: Tuple and Dictionary\n",
    "\n",
    "Create a dictionary with tuple keys and integer values. Print the dictionary."
   ]
  },
  {
   "cell_type": "code",
   "execution_count": null,
   "id": "3d6d4da5",
   "metadata": {},
   "outputs": [],
   "source": [
    "tpl = {(1,2):(2,9),(3,4):(4,16),(5,25):(26,30)}\n",
    "\n",
    "print(tpl)"
   ]
  },
  {
   "cell_type": "markdown",
   "id": "c2918366",
   "metadata": {},
   "source": [
    "### Assignment 13: Nested Tuple Iteration\n",
    "\n",
    "Create a nested tuple and iterate over the elements, printing each element."
   ]
  },
  {
   "cell_type": "code",
   "execution_count": null,
   "id": "a30fecca",
   "metadata": {},
   "outputs": [],
   "source": [
    "tp1 = ((1,2),(3,4),(5,6))\n",
    "\n",
    "for i in tp1:\n",
    "    for j in i:\n",
    "        print(j)"
   ]
  },
  {
   "cell_type": "markdown",
   "id": "dbbd9852",
   "metadata": {},
   "source": [
    "### Assignment 14: Tuple and Set\n",
    "\n",
    "Create a tuple with duplicate elements. Convert it to a set to remove duplicates and print the resulting set.\n"
   ]
  },
  {
   "cell_type": "code",
   "execution_count": null,
   "id": "c2cff596",
   "metadata": {},
   "outputs": [],
   "source": [
    "dup = (1,2,3,2,1,1,1,2,4,5,6,4,2)\n",
    "\n",
    "sets = set(dup)\n",
    "\n",
    "print(sets)"
   ]
  },
  {
   "cell_type": "markdown",
   "id": "a9fc3988",
   "metadata": {},
   "source": [
    "### Assignment 15: Tuple Functions\n",
    "\n",
    "Write functions that take a tuple and return the minimum, maximum, and sum of the elements. Print the results for a sample tuple."
   ]
  },
  {
   "cell_type": "code",
   "execution_count": null,
   "id": "29e18bfb",
   "metadata": {},
   "outputs": [],
   "source": [
    "def max_min_sum():\n",
    "    return min(tpl),max(tpl),sum(tpl)\n",
    "\n",
    "tpl = (1,2,3,4,5,6)\n",
    "\n",
    "max_min_sum()"
   ]
  }
 ],
 "metadata": {
  "kernelspec": {
   "display_name": "Python 3",
   "language": "python",
   "name": "python3"
  },
  "language_info": {
   "codemirror_mode": {
    "name": "ipython",
    "version": 3
   },
   "file_extension": ".py",
   "mimetype": "text/x-python",
   "name": "python",
   "nbconvert_exporter": "python",
   "pygments_lexer": "ipython3",
   "version": "3.13.0"
  }
 },
 "nbformat": 4,
 "nbformat_minor": 5
}
